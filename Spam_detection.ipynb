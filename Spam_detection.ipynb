{
  "cells": [
    {
      "cell_type": "markdown",
      "metadata": {
        "id": "view-in-github",
        "colab_type": "text"
      },
      "source": [
        "<a href=\"https://colab.research.google.com/github/AzizKorbi/project/blob/master/Spam_detection.ipynb\" target=\"_parent\"><img src=\"https://colab.research.google.com/assets/colab-badge.svg\" alt=\"Open In Colab\"/></a>"
      ]
    },
    {
      "cell_type": "markdown",
      "metadata": {
        "id": "acdc6d1b"
      },
      "source": [
        "# Spam Detection Project using NLTK & SK-Learn\n"
      ],
      "id": "acdc6d1b"
    },
    {
      "cell_type": "markdown",
      "metadata": {
        "id": "3319dfe4"
      },
      "source": [
        "In this Project we will discuss a higher level overview of the basics of NLP, which basically consists of combining machine learning techniques with text, and using math and statistics to get that text in a format that the machine learning algorithms can understand!"
      ],
      "id": "3319dfe4"
    },
    {
      "cell_type": "markdown",
      "metadata": {
        "id": "1991c6dc"
      },
      "source": [
        "**Requirements: You will need to have NLTK installed**"
      ],
      "id": "1991c6dc"
    },
    {
      "cell_type": "markdown",
      "metadata": {
        "id": "cb59583f"
      },
      "source": [
        "# **Imports**"
      ],
      "id": "cb59583f"
    },
    {
      "cell_type": "code",
      "execution_count": null,
      "metadata": {
        "id": "da35e8ed"
      },
      "outputs": [],
      "source": [
        "import nltk\n",
        "import pandas as pd\n",
        "import matplotlib.pyplot as plt\n",
        "\n",
        "%matplotlib inline"
      ],
      "id": "da35e8ed"
    },
    {
      "cell_type": "markdown",
      "metadata": {
        "id": "f840bc5f"
      },
      "source": [
        "**Download Stopwords**"
      ],
      "id": "f840bc5f"
    },
    {
      "cell_type": "code",
      "execution_count": null,
      "metadata": {
        "colab": {
          "background_save": true,
          "base_uri": "https://localhost:8080/"
        },
        "id": "b13e6989",
        "outputId": "149a29a9-16e6-4d22-83ff-86bf8124b4be"
      },
      "outputs": [
        {
          "name": "stdout",
          "output_type": "stream",
          "text": [
            "NLTK Downloader\n",
            "---------------------------------------------------------------------------\n",
            "    d) Download   l) List    u) Update   c) Config   h) Help   q) Quit\n",
            "---------------------------------------------------------------------------\n",
            "\n",
            "Download which package (l=list; x=cancel)?\n"
          ]
        }
      ],
      "source": [
        "nltk.download_shell()"
      ],
      "id": "b13e6989"
    },
    {
      "cell_type": "markdown",
      "metadata": {
        "id": "30e08093"
      },
      "source": [
        "# Get the Data"
      ],
      "id": "30e08093"
    },
    {
      "cell_type": "markdown",
      "metadata": {
        "id": "e769d259"
      },
      "source": [
        "We'll be using a dataset from the [UCI datasets](https://archive.ics.uci.edu/ml/datasets/SMS+Spam+Collection)! This dataset is already located in the folder for this section."
      ],
      "id": "e769d259"
    },
    {
      "cell_type": "code",
      "execution_count": null,
      "metadata": {
        "id": "d7994866",
        "outputId": "bb325c7e-acc2-4947-cdae-782274f9935c"
      },
      "outputs": [
        {
          "name": "stdout",
          "output_type": "stream",
          "text": [
            "5574\n"
          ]
        }
      ],
      "source": [
        "messages = [line.rstrip() for line in open('SMSSpamCollection')]\n",
        "print(len(messages))"
      ],
      "id": "d7994866"
    },
    {
      "cell_type": "markdown",
      "metadata": {
        "id": "dc1b13ab"
      },
      "source": [
        "A collection of texts is also sometimes called \"corpus\". Let's print the first ten messages and number them using **enumerate**:"
      ],
      "id": "dc1b13ab"
    },
    {
      "cell_type": "code",
      "execution_count": null,
      "metadata": {
        "id": "42b297c9",
        "outputId": "ce0ebff0-c82d-4696-fd4c-b532969156bb"
      },
      "outputs": [
        {
          "name": "stdout",
          "output_type": "stream",
          "text": [
            "0 ham\tGo until jurong point, crazy.. Available only in bugis n great world la e buffet... Cine there got amore wat... \n",
            "\n",
            "1 ham\tOk lar... Joking wif u oni... \n",
            "\n",
            "2 spam\tFree entry in 2 a wkly comp to win FA Cup final tkts 21st May 2005. Text FA to 87121 to receive entry question(std txt rate)T&C's apply 08452810075over18's \n",
            "\n",
            "3 ham\tU dun say so early hor... U c already then say... \n",
            "\n",
            "4 ham\tNah I don't think he goes to usf, he lives around here though \n",
            "\n",
            "5 spam\tFreeMsg Hey there darling it's been 3 week's now and no word back! I'd like some fun you up for it still? Tb ok! XxX std chgs to send, Â£1.50 to rcv \n",
            "\n",
            "6 ham\tEven my brother is not like to speak with me. They treat me like aids patent. \n",
            "\n",
            "7 ham\tAs per your request 'Melle Melle (Oru Minnaminunginte Nurungu Vettam)' has been set as your callertune for all Callers. Press *9 to copy your friends Callertune \n",
            "\n",
            "8 spam\tWINNER!! As a valued network customer you have been selected to receivea Â£900 prize reward! To claim call 09061701461. Claim code KL341. Valid 12 hours only. \n",
            "\n",
            "9 spam\tHad your mobile 11 months or more? U R entitled to Update to the latest colour mobiles with camera for Free! Call The Mobile Update Co FREE on 08002986030 \n",
            "\n"
          ]
        }
      ],
      "source": [
        "for message_no, message in enumerate(messages[:10]):\n",
        "    print(message_no, message,'\\n')"
      ],
      "id": "42b297c9"
    },
    {
      "cell_type": "markdown",
      "metadata": {
        "id": "280da594"
      },
      "source": [
        "We'll use **read_csv** and make note of the **sep** argument, we can also specify the desired column names by passing in a list of *names*."
      ],
      "id": "280da594"
    },
    {
      "cell_type": "code",
      "execution_count": null,
      "metadata": {
        "id": "7ef0e8a1",
        "outputId": "a0c8b071-1056-46f0-e7a1-e8f8c3f61b38"
      },
      "outputs": [
        {
          "data": {
            "text/html": [
              "<div>\n",
              "<style scoped>\n",
              "    .dataframe tbody tr th:only-of-type {\n",
              "        vertical-align: middle;\n",
              "    }\n",
              "\n",
              "    .dataframe tbody tr th {\n",
              "        vertical-align: top;\n",
              "    }\n",
              "\n",
              "    .dataframe thead th {\n",
              "        text-align: right;\n",
              "    }\n",
              "</style>\n",
              "<table border=\"1\" class=\"dataframe\">\n",
              "  <thead>\n",
              "    <tr style=\"text-align: right;\">\n",
              "      <th></th>\n",
              "      <th>label</th>\n",
              "      <th>message</th>\n",
              "    </tr>\n",
              "  </thead>\n",
              "  <tbody>\n",
              "    <tr>\n",
              "      <th>0</th>\n",
              "      <td>ham</td>\n",
              "      <td>Go until jurong point, crazy.. Available only ...</td>\n",
              "    </tr>\n",
              "    <tr>\n",
              "      <th>1</th>\n",
              "      <td>ham</td>\n",
              "      <td>Ok lar... Joking wif u oni...</td>\n",
              "    </tr>\n",
              "    <tr>\n",
              "      <th>2</th>\n",
              "      <td>spam</td>\n",
              "      <td>Free entry in 2 a wkly comp to win FA Cup fina...</td>\n",
              "    </tr>\n",
              "    <tr>\n",
              "      <th>3</th>\n",
              "      <td>ham</td>\n",
              "      <td>U dun say so early hor... U c already then say...</td>\n",
              "    </tr>\n",
              "    <tr>\n",
              "      <th>4</th>\n",
              "      <td>ham</td>\n",
              "      <td>Nah I don't think he goes to usf, he lives aro...</td>\n",
              "    </tr>\n",
              "  </tbody>\n",
              "</table>\n",
              "</div>"
            ],
            "text/plain": [
              "  label                                            message\n",
              "0   ham  Go until jurong point, crazy.. Available only ...\n",
              "1   ham                      Ok lar... Joking wif u oni...\n",
              "2  spam  Free entry in 2 a wkly comp to win FA Cup fina...\n",
              "3   ham  U dun say so early hor... U c already then say...\n",
              "4   ham  Nah I don't think he goes to usf, he lives aro..."
            ]
          },
          "execution_count": 17,
          "metadata": {},
          "output_type": "execute_result"
        }
      ],
      "source": [
        "messages = pd.read_csv('SMSSpamCollection', sep='\\t',\n",
        "                           names=[\"label\", \"message\"])\n",
        "messages.head()"
      ],
      "id": "7ef0e8a1"
    },
    {
      "cell_type": "markdown",
      "metadata": {
        "id": "e5baeafa"
      },
      "source": [
        "# Exploratory Data Analysis\n",
        "\n",
        "Let's check out some of the stats with some plots and the built-in methods in pandas!"
      ],
      "id": "e5baeafa"
    },
    {
      "cell_type": "code",
      "execution_count": null,
      "metadata": {
        "id": "96abf551",
        "outputId": "4e66e15b-fce1-49d0-b08b-881fd77593b4"
      },
      "outputs": [
        {
          "data": {
            "text/html": [
              "<div>\n",
              "<style scoped>\n",
              "    .dataframe tbody tr th:only-of-type {\n",
              "        vertical-align: middle;\n",
              "    }\n",
              "\n",
              "    .dataframe tbody tr th {\n",
              "        vertical-align: top;\n",
              "    }\n",
              "\n",
              "    .dataframe thead th {\n",
              "        text-align: right;\n",
              "    }\n",
              "</style>\n",
              "<table border=\"1\" class=\"dataframe\">\n",
              "  <thead>\n",
              "    <tr style=\"text-align: right;\">\n",
              "      <th></th>\n",
              "      <th>label</th>\n",
              "      <th>message</th>\n",
              "    </tr>\n",
              "  </thead>\n",
              "  <tbody>\n",
              "    <tr>\n",
              "      <th>count</th>\n",
              "      <td>5572</td>\n",
              "      <td>5572</td>\n",
              "    </tr>\n",
              "    <tr>\n",
              "      <th>unique</th>\n",
              "      <td>2</td>\n",
              "      <td>5169</td>\n",
              "    </tr>\n",
              "    <tr>\n",
              "      <th>top</th>\n",
              "      <td>ham</td>\n",
              "      <td>Sorry, I'll call later</td>\n",
              "    </tr>\n",
              "    <tr>\n",
              "      <th>freq</th>\n",
              "      <td>4825</td>\n",
              "      <td>30</td>\n",
              "    </tr>\n",
              "  </tbody>\n",
              "</table>\n",
              "</div>"
            ],
            "text/plain": [
              "       label                 message\n",
              "count   5572                    5572\n",
              "unique     2                    5169\n",
              "top      ham  Sorry, I'll call later\n",
              "freq    4825                      30"
            ]
          },
          "execution_count": 18,
          "metadata": {},
          "output_type": "execute_result"
        }
      ],
      "source": [
        "messages.describe()"
      ],
      "id": "96abf551"
    },
    {
      "cell_type": "markdown",
      "metadata": {
        "id": "21ebc0a8"
      },
      "source": [
        "Let's use **groupby** to use describe by label, this way we can begin to think about the features that separate ham and spam!"
      ],
      "id": "21ebc0a8"
    },
    {
      "cell_type": "code",
      "execution_count": null,
      "metadata": {
        "id": "b9db67b7",
        "outputId": "4fd1c331-ce54-48d8-ab8e-85133ece410c"
      },
      "outputs": [
        {
          "data": {
            "text/html": [
              "<div>\n",
              "<style scoped>\n",
              "    .dataframe tbody tr th:only-of-type {\n",
              "        vertical-align: middle;\n",
              "    }\n",
              "\n",
              "    .dataframe tbody tr th {\n",
              "        vertical-align: top;\n",
              "    }\n",
              "\n",
              "    .dataframe thead th {\n",
              "        text-align: right;\n",
              "    }\n",
              "</style>\n",
              "<table border=\"1\" class=\"dataframe\">\n",
              "  <thead>\n",
              "    <tr style=\"text-align: right;\">\n",
              "      <th></th>\n",
              "      <th>label</th>\n",
              "      <th>ham</th>\n",
              "      <th>spam</th>\n",
              "    </tr>\n",
              "  </thead>\n",
              "  <tbody>\n",
              "    <tr>\n",
              "      <th rowspan=\"4\" valign=\"top\">message</th>\n",
              "      <th>count</th>\n",
              "      <td>4825</td>\n",
              "      <td>747</td>\n",
              "    </tr>\n",
              "    <tr>\n",
              "      <th>unique</th>\n",
              "      <td>4516</td>\n",
              "      <td>653</td>\n",
              "    </tr>\n",
              "    <tr>\n",
              "      <th>top</th>\n",
              "      <td>Sorry, I'll call later</td>\n",
              "      <td>Please call our customer service representativ...</td>\n",
              "    </tr>\n",
              "    <tr>\n",
              "      <th>freq</th>\n",
              "      <td>30</td>\n",
              "      <td>4</td>\n",
              "    </tr>\n",
              "  </tbody>\n",
              "</table>\n",
              "</div>"
            ],
            "text/plain": [
              "label                              ham  \\\n",
              "message count                     4825   \n",
              "        unique                    4516   \n",
              "        top     Sorry, I'll call later   \n",
              "        freq                        30   \n",
              "\n",
              "label                                                        spam  \n",
              "message count                                                 747  \n",
              "        unique                                                653  \n",
              "        top     Please call our customer service representativ...  \n",
              "        freq                                                    4  "
            ]
          },
          "execution_count": 19,
          "metadata": {},
          "output_type": "execute_result"
        }
      ],
      "source": [
        "messages.groupby('label').describe().transpose()"
      ],
      "id": "b9db67b7"
    },
    {
      "cell_type": "code",
      "execution_count": null,
      "metadata": {
        "id": "ebf201bd"
      },
      "outputs": [],
      "source": [
        "messages['length'] = messages['message'].apply(len)"
      ],
      "id": "ebf201bd"
    },
    {
      "cell_type": "code",
      "execution_count": null,
      "metadata": {
        "id": "2d2495a4",
        "outputId": "156dd932-6836-4a09-8c71-0733a307d3cd"
      },
      "outputs": [
        {
          "data": {
            "text/html": [
              "<div>\n",
              "<style scoped>\n",
              "    .dataframe tbody tr th:only-of-type {\n",
              "        vertical-align: middle;\n",
              "    }\n",
              "\n",
              "    .dataframe tbody tr th {\n",
              "        vertical-align: top;\n",
              "    }\n",
              "\n",
              "    .dataframe thead th {\n",
              "        text-align: right;\n",
              "    }\n",
              "</style>\n",
              "<table border=\"1\" class=\"dataframe\">\n",
              "  <thead>\n",
              "    <tr style=\"text-align: right;\">\n",
              "      <th></th>\n",
              "      <th>label</th>\n",
              "      <th>message</th>\n",
              "      <th>length</th>\n",
              "    </tr>\n",
              "  </thead>\n",
              "  <tbody>\n",
              "    <tr>\n",
              "      <th>0</th>\n",
              "      <td>ham</td>\n",
              "      <td>Go until jurong point, crazy.. Available only ...</td>\n",
              "      <td>111</td>\n",
              "    </tr>\n",
              "    <tr>\n",
              "      <th>1</th>\n",
              "      <td>ham</td>\n",
              "      <td>Ok lar... Joking wif u oni...</td>\n",
              "      <td>29</td>\n",
              "    </tr>\n",
              "    <tr>\n",
              "      <th>2</th>\n",
              "      <td>spam</td>\n",
              "      <td>Free entry in 2 a wkly comp to win FA Cup fina...</td>\n",
              "      <td>155</td>\n",
              "    </tr>\n",
              "    <tr>\n",
              "      <th>3</th>\n",
              "      <td>ham</td>\n",
              "      <td>U dun say so early hor... U c already then say...</td>\n",
              "      <td>49</td>\n",
              "    </tr>\n",
              "    <tr>\n",
              "      <th>4</th>\n",
              "      <td>ham</td>\n",
              "      <td>Nah I don't think he goes to usf, he lives aro...</td>\n",
              "      <td>61</td>\n",
              "    </tr>\n",
              "  </tbody>\n",
              "</table>\n",
              "</div>"
            ],
            "text/plain": [
              "  label                                            message  length\n",
              "0   ham  Go until jurong point, crazy.. Available only ...     111\n",
              "1   ham                      Ok lar... Joking wif u oni...      29\n",
              "2  spam  Free entry in 2 a wkly comp to win FA Cup fina...     155\n",
              "3   ham  U dun say so early hor... U c already then say...      49\n",
              "4   ham  Nah I don't think he goes to usf, he lives aro...      61"
            ]
          },
          "execution_count": 21,
          "metadata": {},
          "output_type": "execute_result"
        }
      ],
      "source": [
        "messages.head()"
      ],
      "id": "2d2495a4"
    },
    {
      "cell_type": "markdown",
      "metadata": {
        "id": "97d918ba"
      },
      "source": [
        "## Data Visualization\n"
      ],
      "id": "97d918ba"
    },
    {
      "cell_type": "code",
      "execution_count": null,
      "metadata": {
        "id": "7295d36f",
        "outputId": "ebc15704-06c4-4405-b7d2-0cf8e5398583"
      },
      "outputs": [
        {
          "data": {
            "text/plain": [
              "<AxesSubplot:ylabel='Frequency'>"
            ]
          },
          "execution_count": 22,
          "metadata": {},
          "output_type": "execute_result"
        },
        {
          "data": {
            "image/png": "[encoded data removed]",
            "text/plain": [
              "<Figure size 1200x800 with 1 Axes>"
            ]
          },
          "metadata": {},
          "output_type": "display_data"
        }
      ],
      "source": [
        "fig = plt.figure(figsize=(12,8))\n",
        "messages['length'].plot(bins=50, kind='hist')"
      ],
      "id": "7295d36f"
    },
    {
      "cell_type": "code",
      "execution_count": null,
      "metadata": {
        "id": "67933490",
        "outputId": "c957bb60-09e7-4cea-d498-49900375c6a3"
      },
      "outputs": [
        {
          "data": {
            "text/plain": [
              "count    5572.000000\n",
              "mean       80.489950\n",
              "std        59.942907\n",
              "min         2.000000\n",
              "25%        36.000000\n",
              "50%        62.000000\n",
              "75%       122.000000\n",
              "max       910.000000\n",
              "Name: length, dtype: float64"
            ]
          },
          "execution_count": 23,
          "metadata": {},
          "output_type": "execute_result"
        }
      ],
      "source": [
        "messages.length.describe()"
      ],
      "id": "67933490"
    },
    {
      "cell_type": "code",
      "execution_count": null,
      "metadata": {
        "id": "ef3472fa"
      },
      "outputs": [],
      "source": [
        "# There is a message that has 910 characters, which is an outlier"
      ],
      "id": "ef3472fa"
    },
    {
      "cell_type": "code",
      "execution_count": null,
      "metadata": {
        "id": "38124956",
        "outputId": "ab3736f0-1c33-441f-f564-1147d0e7098b"
      },
      "outputs": [
        {
          "data": {
            "text/plain": [
              "\"For me the love should start with attraction.i should feel that I need her every time around me.she should be the first thing which comes in my thoughts.I would start the day and end it with her.she should be there every time I dream.love will be then when my every breath has her name.my life should happen around her.my life will be named to her.I would cry for her.will give all my happiness and take all her sorrows.I will be ready to fight with anyone for her.I will be in love when I will be doing the craziest things for her.love will be when I don't have to proove anyone that my girl is the most beautiful lady on the whole planet.I will always be singing praises for her.love will be when I start up making chicken curry and end up makiing sambar.life will be the most beautiful then.will get every morning and thank god for the day because she is with me.I would like to say a lot..will tell later..\""
            ]
          },
          "execution_count": 25,
          "metadata": {},
          "output_type": "execute_result"
        }
      ],
      "source": [
        "messages[messages['length'] == 910]['message'].iloc[0]"
      ],
      "id": "38124956"
    },
    {
      "cell_type": "code",
      "execution_count": null,
      "metadata": {
        "id": "6b9cbcc0",
        "outputId": "98142c04-1e3c-4df7-92f3-9aff466f9581"
      },
      "outputs": [
        {
          "data": {
            "text/plain": [
              "array([<AxesSubplot:title={'center':'ham'}>,\n",
              "       <AxesSubplot:title={'center':'spam'}>], dtype=object)"
            ]
          },
          "execution_count": 68,
          "metadata": {},
          "output_type": "execute_result"
        },
        {
          "data": {
            "image/png": "[encoded data removed]",
            "text/plain": [
              "<Figure size 1200x400 with 2 Axes>"
            ]
          },
          "metadata": {},
          "output_type": "display_data"
        }
      ],
      "source": [
        "messages.hist(column='length', by='label', bins=70,figsize=(12,4))"
      ],
      "id": "6b9cbcc0"
    },
    {
      "cell_type": "markdown",
      "metadata": {
        "id": "1ee6985d"
      },
      "source": [
        "# Text Pre-processing"
      ],
      "id": "1ee6985d"
    },
    {
      "cell_type": "code",
      "execution_count": null,
      "metadata": {
        "id": "b054f271"
      },
      "outputs": [],
      "source": [
        "import string\n",
        "\n",
        "mess = 'This is unbelievable! Leo Messi has signed as a new inter Miami player.'\n",
        "\n",
        "# Check characters to see if they are in punctuation\n",
        "nopunc = [char for char in mess if char not in string.punctuation]"
      ],
      "id": "b054f271"
    },
    {
      "cell_type": "code",
      "execution_count": null,
      "metadata": {
        "id": "1bcbb78b",
        "outputId": "6b881466-e510-4d39-8924-9ea3e916e5a7"
      },
      "outputs": [
        {
          "data": {
            "text/plain": [
              "['T',\n",
              " 'h',\n",
              " 'i',\n",
              " 's',\n",
              " ' ',\n",
              " 'i',\n",
              " 's',\n",
              " ' ',\n",
              " 'u',\n",
              " 'n',\n",
              " 'b',\n",
              " 'e',\n",
              " 'l',\n",
              " 'i',\n",
              " 'e',\n",
              " 'v',\n",
              " 'a',\n",
              " 'b',\n",
              " 'l',\n",
              " 'e',\n",
              " ' ',\n",
              " 'L',\n",
              " 'e',\n",
              " 'o',\n",
              " ' ',\n",
              " 'M',\n",
              " 'e',\n",
              " 's',\n",
              " 's',\n",
              " 'i',\n",
              " ' ',\n",
              " 'h',\n",
              " 'a',\n",
              " 's',\n",
              " ' ',\n",
              " 's',\n",
              " 'i',\n",
              " 'g',\n",
              " 'n',\n",
              " 'e',\n",
              " 'd',\n",
              " ' ',\n",
              " 'a',\n",
              " 's',\n",
              " ' ',\n",
              " 'a',\n",
              " ' ',\n",
              " 'n',\n",
              " 'e',\n",
              " 'w',\n",
              " ' ',\n",
              " 'i',\n",
              " 'n',\n",
              " 't',\n",
              " 'e',\n",
              " 'r',\n",
              " ' ',\n",
              " 'M',\n",
              " 'i',\n",
              " 'a',\n",
              " 'm',\n",
              " 'i',\n",
              " ' ',\n",
              " 'p',\n",
              " 'l',\n",
              " 'a',\n",
              " 'y',\n",
              " 'e',\n",
              " 'r']"
            ]
          },
          "execution_count": 30,
          "metadata": {},
          "output_type": "execute_result"
        }
      ],
      "source": [
        "nopunc"
      ],
      "id": "1bcbb78b"
    },
    {
      "cell_type": "code",
      "execution_count": null,
      "metadata": {
        "id": "a1964d87"
      },
      "outputs": [],
      "source": [
        "# Join the characters again to form the string.\n",
        "nopunc = ''.join(nopunc)"
      ],
      "id": "a1964d87"
    },
    {
      "cell_type": "code",
      "execution_count": null,
      "metadata": {
        "id": "7c987c02",
        "outputId": "78b8822b-838e-47f9-f0ad-6058fa11697b"
      },
      "outputs": [
        {
          "data": {
            "text/plain": [
              "'This is unbelievable Leo Messi has signed as a new inter Miami player'"
            ]
          },
          "execution_count": 38,
          "metadata": {},
          "output_type": "execute_result"
        }
      ],
      "source": [
        "nopunc"
      ],
      "id": "7c987c02"
    },
    {
      "cell_type": "code",
      "execution_count": null,
      "metadata": {
        "id": "45cf67d8"
      },
      "outputs": [],
      "source": [
        "from nltk.corpus import stopwords"
      ],
      "id": "45cf67d8"
    },
    {
      "cell_type": "code",
      "execution_count": null,
      "metadata": {
        "id": "6bf578eb",
        "outputId": "95201475-6855-4d51-a590-6e7663c7d6be"
      },
      "outputs": [
        {
          "data": {
            "text/plain": [
              "['i', 'me', 'my', 'myself', 'we', 'our', 'ours', 'ourselves', 'you', \"you're\"]"
            ]
          },
          "execution_count": 95,
          "metadata": {},
          "output_type": "execute_result"
        }
      ],
      "source": [
        "# Show some stop words\n",
        "stopwords.words('english')[0:10]"
      ],
      "id": "6bf578eb"
    },
    {
      "cell_type": "code",
      "execution_count": null,
      "metadata": {
        "id": "a4d8e57c",
        "outputId": "2ae7a746-a677-4908-ddd8-c8c8a16e7ffc"
      },
      "outputs": [
        {
          "data": {
            "text/plain": [
              "['إذ', 'إذا', 'إذما', 'إذن', 'أف', 'أقل', 'أكثر', 'ألا', 'إلا', 'التي']"
            ]
          },
          "execution_count": 96,
          "metadata": {},
          "output_type": "execute_result"
        }
      ],
      "source": [
        "# Show some stop words in ARABIC language\n",
        "stopwords.words('arabic')[0:10]"
      ],
      "id": "a4d8e57c"
    },
    {
      "cell_type": "code",
      "execution_count": null,
      "metadata": {
        "id": "ff9365bb",
        "outputId": "40cd72a8-59ee-4480-c912-dfb0babe1bd9"
      },
      "outputs": [
        {
          "data": {
            "text/plain": [
              "['This',\n",
              " 'is',\n",
              " 'unbelievable',\n",
              " 'Leo',\n",
              " 'messi',\n",
              " 'has',\n",
              " 'signed',\n",
              " 'as',\n",
              " 'new',\n",
              " 'inter',\n",
              " 'Miami',\n",
              " 'player']"
            ]
          },
          "execution_count": 45,
          "metadata": {},
          "output_type": "execute_result"
        }
      ],
      "source": [
        "nopunc.split()"
      ],
      "id": "ff9365bb"
    },
    {
      "cell_type": "code",
      "execution_count": null,
      "metadata": {
        "id": "c69a94cb"
      },
      "outputs": [],
      "source": [
        "# Now just remove any stopwords\n",
        "clean_mess = [word for word in nopunc.split() if word.lower() not in stopwords.words('english')]"
      ],
      "id": "c69a94cb"
    },
    {
      "cell_type": "code",
      "execution_count": null,
      "metadata": {
        "id": "186aba2b",
        "outputId": "e4d5d21d-a63f-4136-e1a1-1dc38c4592d0"
      },
      "outputs": [
        {
          "data": {
            "text/plain": [
              "['unbelievable', 'Leo', 'Messi', 'signed', 'new', 'inter', 'Miami', 'player']"
            ]
          },
          "execution_count": 43,
          "metadata": {},
          "output_type": "execute_result"
        }
      ],
      "source": [
        "clean_mess"
      ],
      "id": "186aba2b"
    },
    {
      "cell_type": "code",
      "execution_count": null,
      "metadata": {
        "id": "ebd31174"
      },
      "outputs": [],
      "source": [
        "def text_process(mess):\n",
        "\n",
        "    # Check characters to see if they are in punctuation\n",
        "    nopunc = [char for char in mess if char not in string.punctuation]\n",
        "\n",
        "    # Join the characters again to form the string.\n",
        "    nopunc = ''.join(nopunc)\n",
        "\n",
        "    # Now just remove any stopwords\n",
        "    return [word for word in nopunc.split() if word.lower() not in stopwords.words('english')]"
      ],
      "id": "ebd31174"
    },
    {
      "cell_type": "code",
      "execution_count": null,
      "metadata": {
        "id": "81cc27eb",
        "outputId": "3d8cf917-5735-4e27-c012-102ff112afc0"
      },
      "outputs": [
        {
          "data": {
            "text/html": [
              "<div>\n",
              "<style scoped>\n",
              "    .dataframe tbody tr th:only-of-type {\n",
              "        vertical-align: middle;\n",
              "    }\n",
              "\n",
              "    .dataframe tbody tr th {\n",
              "        vertical-align: top;\n",
              "    }\n",
              "\n",
              "    .dataframe thead th {\n",
              "        text-align: right;\n",
              "    }\n",
              "</style>\n",
              "<table border=\"1\" class=\"dataframe\">\n",
              "  <thead>\n",
              "    <tr style=\"text-align: right;\">\n",
              "      <th></th>\n",
              "      <th>label</th>\n",
              "      <th>message</th>\n",
              "      <th>length</th>\n",
              "    </tr>\n",
              "  </thead>\n",
              "  <tbody>\n",
              "    <tr>\n",
              "      <th>0</th>\n",
              "      <td>ham</td>\n",
              "      <td>Go until jurong point, crazy.. Available only ...</td>\n",
              "      <td>111</td>\n",
              "    </tr>\n",
              "    <tr>\n",
              "      <th>1</th>\n",
              "      <td>ham</td>\n",
              "      <td>Ok lar... Joking wif u oni...</td>\n",
              "      <td>29</td>\n",
              "    </tr>\n",
              "    <tr>\n",
              "      <th>2</th>\n",
              "      <td>spam</td>\n",
              "      <td>Free entry in 2 a wkly comp to win FA Cup fina...</td>\n",
              "      <td>155</td>\n",
              "    </tr>\n",
              "    <tr>\n",
              "      <th>3</th>\n",
              "      <td>ham</td>\n",
              "      <td>U dun say so early hor... U c already then say...</td>\n",
              "      <td>49</td>\n",
              "    </tr>\n",
              "    <tr>\n",
              "      <th>4</th>\n",
              "      <td>ham</td>\n",
              "      <td>Nah I don't think he goes to usf, he lives aro...</td>\n",
              "      <td>61</td>\n",
              "    </tr>\n",
              "  </tbody>\n",
              "</table>\n",
              "</div>"
            ],
            "text/plain": [
              "  label                                            message  length\n",
              "0   ham  Go until jurong point, crazy.. Available only ...     111\n",
              "1   ham                      Ok lar... Joking wif u oni...      29\n",
              "2  spam  Free entry in 2 a wkly comp to win FA Cup fina...     155\n",
              "3   ham  U dun say so early hor... U c already then say...      49\n",
              "4   ham  Nah I don't think he goes to usf, he lives aro...      61"
            ]
          },
          "execution_count": 45,
          "metadata": {},
          "output_type": "execute_result"
        }
      ],
      "source": [
        "messages.head()"
      ],
      "id": "81cc27eb"
    },
    {
      "cell_type": "code",
      "execution_count": null,
      "metadata": {
        "id": "e4d0d32d",
        "outputId": "f6d80c84-beef-4fb7-d5ec-b6a4cd9370a6"
      },
      "outputs": [
        {
          "data": {
            "text/plain": [
              "0    [Go, jurong, point, crazy, Available, bugis, n...\n",
              "1                       [Ok, lar, Joking, wif, u, oni]\n",
              "2    [Free, entry, 2, wkly, comp, win, FA, Cup, fin...\n",
              "3        [U, dun, say, early, hor, U, c, already, say]\n",
              "4    [Nah, dont, think, goes, usf, lives, around, t...\n",
              "Name: message, dtype: object"
            ]
          },
          "execution_count": 97,
          "metadata": {},
          "output_type": "execute_result"
        }
      ],
      "source": [
        "# Check to make sure its working\n",
        "messages['message'].head(5).apply(text_process)"
      ],
      "id": "e4d0d32d"
    },
    {
      "cell_type": "markdown",
      "metadata": {
        "id": "98673888"
      },
      "source": [
        "# Vectorization"
      ],
      "id": "98673888"
    },
    {
      "cell_type": "markdown",
      "metadata": {
        "id": "b279ef08"
      },
      "source": [
        " Each vector will have as many dimensions as there are unique words in the SMS corpus.  We will first use SciKit Learn's **CountVectorizer**. This model will convert a collection of text documents to a matrix of token counts.\n",
        "\n",
        "We can imagine this as a 2-Dimensional matrix. Where the 1-dimension is the entire vocabulary (1 row per word) and the other dimension are the actual documents, in this case a column per text message.\n",
        "\n",
        "For example:\n",
        "\n",
        "<table border = “1“>\n",
        "<tr>\n",
        "<th></th> <th>Message 1</th> <th>Message 2</th> <th>...</th> <th>Message N</th>\n",
        "</tr>\n",
        "<tr>\n",
        "<td><b>Word 1 Count</b></td><td>3</td><td>0</td><td>...</td><td>0</td>\n",
        "</tr>\n",
        "<tr>\n",
        "<td><b>Word 2 Count</b></td><td>0</td><td>1</td><td>...</td><td>0</td>\n",
        "</tr>\n",
        "<tr>\n",
        "<td><b>...</b></td> <td>1</td><td>2</td><td>...</td><td>0</td>\n",
        "</tr>\n",
        "<tr>\n",
        "<td><b>Word M Count</b></td> <td>0</td><td>1</td><td>...</td><td>1</td>\n",
        "</tr>\n",
        "</table>\n",
        "\n",
        "\n",
        "Since there are so many messages, we can expect a lot of zero counts for the presence of that word in that document. Because of this, SciKit Learn will output a [Sparse Matrix](https://en.wikipedia.org/wiki/Sparse_matrix)."
      ],
      "id": "b279ef08"
    },
    {
      "cell_type": "code",
      "execution_count": null,
      "metadata": {
        "id": "73065653"
      },
      "outputs": [],
      "source": [
        "from sklearn.feature_extraction.text import CountVectorizer"
      ],
      "id": "73065653"
    },
    {
      "cell_type": "code",
      "execution_count": null,
      "metadata": {
        "id": "118e5973",
        "outputId": "a4e04c3c-4758-4c96-8f33-cecbb0cb8828"
      },
      "outputs": [
        {
          "name": "stdout",
          "output_type": "stream",
          "text": [
            "M :  11425\n"
          ]
        }
      ],
      "source": [
        "# May take a while...\n",
        "vectorizer = CountVectorizer(analyzer=text_process).fit(messages['message'])\n",
        "\n",
        "# Print total number of vocab words\n",
        "print('M : ',len(vectorizer.vocabulary_))"
      ],
      "id": "118e5973"
    },
    {
      "cell_type": "code",
      "execution_count": null,
      "metadata": {
        "id": "8cdcf56f",
        "outputId": "959fdeb7-8bb8-49d8-bfe8-a1f9298967ba"
      },
      "outputs": [
        {
          "name": "stdout",
          "output_type": "stream",
          "text": [
            "Even my brother is not like to speak with me. They treat me like aids patent.\n"
          ]
        }
      ],
      "source": [
        "message7 = messages['message'][6]\n",
        "print(message7)"
      ],
      "id": "8cdcf56f"
    },
    {
      "cell_type": "code",
      "execution_count": null,
      "metadata": {
        "id": "1c41b9ce",
        "outputId": "63ef8782-6c45-46a9-a2b4-97fba7dada92"
      },
      "outputs": [
        {
          "name": "stdout",
          "output_type": "stream",
          "text": [
            "  (0, 1802)\t1\n",
            "  (0, 4590)\t1\n",
            "  (0, 5193)\t1\n",
            "  (0, 7800)\t2\n",
            "  (0, 8761)\t1\n",
            "  (0, 9971)\t1\n",
            "  (0, 10629)\t1 \n",
            "\n",
            "(1, 11425)\n"
          ]
        }
      ],
      "source": [
        "bow7 = vectorizer.transform([message7])\n",
        "print(bow7,'\\n')\n",
        "print(bow7.shape)"
      ],
      "id": "1c41b9ce"
    },
    {
      "cell_type": "code",
      "execution_count": null,
      "metadata": {
        "id": "c09b7515"
      },
      "outputs": [],
      "source": [
        "vect_messages = vectorizer.transform(messages['message'])"
      ],
      "id": "c09b7515"
    },
    {
      "cell_type": "code",
      "execution_count": null,
      "metadata": {
        "id": "b766debd",
        "outputId": "db90a7f5-c45c-465b-f25e-6d669cf2ce24"
      },
      "outputs": [
        {
          "name": "stdout",
          "output_type": "stream",
          "text": [
            "Shape of Sparse Matrix:  (5572, 11425)\n",
            "Amount of Non-Zero occurences:  50548\n"
          ]
        }
      ],
      "source": [
        "print('Shape of Sparse Matrix: ', vect_messages.shape)\n",
        "print('Amount of Non-Zero occurences: ', vect_messages.nnz)"
      ],
      "id": "b766debd"
    },
    {
      "cell_type": "code",
      "execution_count": null,
      "metadata": {
        "id": "1e6a91da",
        "outputId": "6a687c34-f632-4079-d60a-e6cc644b1119"
      },
      "outputs": [
        {
          "name": "stdout",
          "output_type": "stream",
          "text": [
            "sparsity: 0.07940295412668218 %\n"
          ]
        }
      ],
      "source": [
        "sparsity = (100.0 * vect_messages.nnz / (vect_messages.shape[0] * vect_messages.shape[1]))\n",
        "print('sparsity: {}'.format(sparsity),'%')"
      ],
      "id": "1e6a91da"
    },
    {
      "cell_type": "code",
      "execution_count": null,
      "metadata": {
        "id": "52accab1",
        "outputId": "2638d11a-1156-4ada-8943-f5968248a952"
      },
      "outputs": [
        {
          "data": {
            "text/plain": [
              "<5572x11425 sparse matrix of type '<class 'numpy.int64'>'\n",
              "\twith 50548 stored elements in Compressed Sparse Row format>"
            ]
          },
          "execution_count": 57,
          "metadata": {},
          "output_type": "execute_result"
        }
      ],
      "source": [
        "vect_messages"
      ],
      "id": "52accab1"
    },
    {
      "cell_type": "markdown",
      "metadata": {
        "id": "7c528b2e"
      },
      "source": [
        "After the counting, the term weighting and normalization can be done with [TF-IDF](http://en.wikipedia.org/wiki/Tf%E2%80%93idf), using scikit-learn's `TfidfTransformer`."
      ],
      "id": "7c528b2e"
    },
    {
      "cell_type": "markdown",
      "metadata": {
        "id": "3de19b5a"
      },
      "source": [
        "### TF-IDF\n",
        "TF-IDF stands for *term frequency-inverse document frequency*, and the tf-idf weight is a weight often used in information retrieval and text mining. This weight is a statistical measure used to evaluate how important a word is to a document in a collection or corpus. The importance increases proportionally to the number of times a word appears in the document but is offset by the frequency of the word in the corpus. Variations of the tf-idf weighting scheme are often used by search engines as a central tool in scoring and ranking a document's relevance given a user query.\n",
        "\n",
        "**TF: Term Frequency**, which measures how frequently a term occurs in a document. Since every document is different in length, it is possible that a term would appear much more times in long documents than shorter ones. Thus, the term frequency is often divided by the document length (aka. the total number of terms in the document) as a way of normalization:\n",
        "\n",
        "*TF(t) = (Number of times term t appears in a document) / (Total number of terms in the document).*\n",
        "\n",
        "**IDF: Inverse Document Frequency**, which measures how important a term is. While computing TF, all terms are considered equally important. However it is known that certain terms, such as \"is\", \"of\", and \"that\", may appear a lot of times but have little importance. Thus we need to weigh down the frequent terms while scale up the rare ones, by computing the following:\n",
        "\n",
        "*IDF(t) = log_e(Total number of documents / Number of documents with term t in it).*\n",
        "\n",
        "See below for a simple example.\n",
        "\n",
        "**Example:**\n",
        "\n",
        "Consider a document containing 100 words wherein the word food appears 7 times.\n",
        "\n",
        "The term frequency (i.e., tf) for food is then (7 / 100) = 0.07. Now, assume we have 10 million documents and the word cat appears in one thousand of these. Then, the inverse document frequency (i.e., idf) is calculated as\n",
        "log(1,000,000 / 25,000)= 40. Thus, the Tf-idf weight is the product of these quantities: 0.07 * 40 = 2.8 .\n"
      ],
      "id": "3de19b5a"
    },
    {
      "cell_type": "code",
      "execution_count": null,
      "metadata": {
        "id": "824a5c8f"
      },
      "outputs": [],
      "source": [
        "from sklearn.feature_extraction.text import TfidfTransformer\n",
        "\n",
        "tfidf_transformer = TfidfTransformer().fit(vect_messages)"
      ],
      "id": "824a5c8f"
    },
    {
      "cell_type": "code",
      "execution_count": null,
      "metadata": {
        "id": "0791d3df",
        "outputId": "d210fb93-5b2f-4fed-af10-d3fa321b0527"
      },
      "outputs": [
        {
          "name": "stdout",
          "output_type": "stream",
          "text": [
            "(5572, 11425)\n"
          ]
        }
      ],
      "source": [
        "messages_tfidf = tfidf_transformer.transform(vect_messages)\n",
        "print(messages_tfidf.shape)"
      ],
      "id": "0791d3df"
    },
    {
      "cell_type": "markdown",
      "metadata": {
        "id": "674a240f"
      },
      "source": [
        "# Split the Data"
      ],
      "id": "674a240f"
    },
    {
      "cell_type": "code",
      "execution_count": null,
      "metadata": {
        "id": "b3d7d4e4"
      },
      "outputs": [],
      "source": [
        "from sklearn.model_selection import train_test_split"
      ],
      "id": "b3d7d4e4"
    },
    {
      "cell_type": "code",
      "execution_count": null,
      "metadata": {
        "id": "86f9804c"
      },
      "outputs": [],
      "source": [
        "msg_train, msg_test, label_train, label_test = \\\n",
        "train_test_split(messages_tfidf, messages['label'], test_size=0.2)"
      ],
      "id": "86f9804c"
    },
    {
      "cell_type": "markdown",
      "metadata": {
        "id": "9c85cbde"
      },
      "source": [
        "# Training the model"
      ],
      "id": "9c85cbde"
    },
    {
      "cell_type": "markdown",
      "metadata": {
        "id": "fb8c9f3e"
      },
      "source": [
        "We'll be using scikit-learn here, choosing the [Naive Bayes](http://en.wikipedia.org/wiki/Naive_Bayes_classifier) classifier to start with:"
      ],
      "id": "fb8c9f3e"
    },
    {
      "cell_type": "code",
      "execution_count": null,
      "metadata": {
        "id": "0a636346"
      },
      "outputs": [],
      "source": [
        "from sklearn.naive_bayes import MultinomialNB"
      ],
      "id": "0a636346"
    },
    {
      "cell_type": "code",
      "execution_count": null,
      "metadata": {
        "id": "4214c99d"
      },
      "outputs": [],
      "source": [
        "spam_detect_model = MultinomialNB().fit(msg_train, label_train)"
      ],
      "id": "4214c99d"
    },
    {
      "cell_type": "code",
      "execution_count": null,
      "metadata": {
        "id": "b8b8dab6"
      },
      "outputs": [],
      "source": [
        "pred = spam_detect_model.predict(msg_test)"
      ],
      "id": "b8b8dab6"
    },
    {
      "cell_type": "code",
      "execution_count": null,
      "metadata": {
        "id": "777ec6ef",
        "outputId": "eb28eb9b-25bd-4415-d954-d658a909364e"
      },
      "outputs": [
        {
          "data": {
            "text/plain": [
              "array(['ham', 'spam', 'ham', ..., 'ham', 'ham', 'ham'], dtype='<U4')"
            ]
          },
          "execution_count": 85,
          "metadata": {},
          "output_type": "execute_result"
        }
      ],
      "source": [
        "pred"
      ],
      "id": "777ec6ef"
    },
    {
      "cell_type": "markdown",
      "metadata": {
        "id": "c1a13317"
      },
      "source": [
        "# Model Evaluation"
      ],
      "id": "c1a13317"
    },
    {
      "cell_type": "code",
      "execution_count": null,
      "metadata": {
        "id": "ea79aadc"
      },
      "outputs": [],
      "source": [
        "from sklearn.metrics import classification_report"
      ],
      "id": "ea79aadc"
    },
    {
      "cell_type": "code",
      "execution_count": null,
      "metadata": {
        "id": "9ff9b805",
        "outputId": "6afff650-cb9e-4abb-9cae-19f48e2d731c"
      },
      "outputs": [
        {
          "name": "stdout",
          "output_type": "stream",
          "text": [
            "              precision    recall  f1-score   support\n",
            "\n",
            "         ham       1.00      0.96      0.98      1004\n",
            "        spam       0.73      1.00      0.84       111\n",
            "\n",
            "    accuracy                           0.96      1115\n",
            "   macro avg       0.87      0.98      0.91      1115\n",
            "weighted avg       0.97      0.96      0.97      1115\n",
            "\n"
          ]
        }
      ],
      "source": [
        "print(classification_report(pred,label_test))"
      ],
      "id": "9ff9b805"
    },
    {
      "cell_type": "markdown",
      "metadata": {
        "id": "fbd51ef4"
      },
      "source": [
        "# Creating a Data Pipeline"
      ],
      "id": "fbd51ef4"
    },
    {
      "cell_type": "markdown",
      "metadata": {
        "id": "6f432e5f"
      },
      "source": [
        "Let's run our model again and then predict off the test set. We will use SciKit Learn's [pipeline](http://scikit-learn.org/stable/modules/pipeline.html) capabilities to store a pipeline of workflow. This will allow us to set up all the transformations that we will do to the data for future use."
      ],
      "id": "6f432e5f"
    },
    {
      "cell_type": "code",
      "execution_count": null,
      "metadata": {
        "id": "d581e8eb"
      },
      "outputs": [],
      "source": [
        "from sklearn.pipeline import Pipeline\n",
        "\n",
        "pipeline = Pipeline([\n",
        "    ('vectorizer', CountVectorizer(analyzer=text_process)),\n",
        "    ('tfidf', TfidfTransformer()),\n",
        "    ('spam_detect_model', MultinomialNB()),\n",
        "])"
      ],
      "id": "d581e8eb"
    },
    {
      "cell_type": "markdown",
      "metadata": {
        "id": "5c91104b"
      },
      "source": [
        "## More Resources\n",
        "\n",
        "Check out the links below for more info on Natural Language Processing:\n",
        "\n",
        "[Kaggle Walkthrough](https://www.kaggle.com/c/word2vec-nlp-tutorial/details/part-1-for-beginners-bag-of-words)\n",
        "\n",
        "[SciKit Learn's Tutorial](http://scikit-learn.org/stable/tutorial/text_analytics/working_with_text_data.html)\n",
        "\n",
        "[NLTK Documentation](https://www.nltk.org/)"
      ],
      "id": "5c91104b"
    }
  ],
  "metadata": {
    "colab": {
      "provenance": [],
      "include_colab_link": true
    },
    "kernelspec": {
      "display_name": "Python 3 (ipykernel)",
      "language": "python",
      "name": "python3"
    },
    "language_info": {
      "codemirror_mode": {
        "name": "ipython",
        "version": 3
      },
      "file_extension": ".py",
      "mimetype": "text/x-python",
      "name": "python",
      "nbconvert_exporter": "python",
      "pygments_lexer": "ipython3",
      "version": "3.9.13"
    }
  },
  "nbformat": 4,
  "nbformat_minor": 5
}